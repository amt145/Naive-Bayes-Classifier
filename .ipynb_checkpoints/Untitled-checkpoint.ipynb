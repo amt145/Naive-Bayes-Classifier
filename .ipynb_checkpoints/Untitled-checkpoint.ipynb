{
 "cells": [
  {
   "cell_type": "code",
   "execution_count": 4,
   "metadata": {},
   "outputs": [
    {
     "name": "stdout",
     "output_type": "stream",
     "text": [
      "<class 'pandas.core.frame.DataFrame'>\n",
      "<class 'dict'>\n",
      "{'outlook': {0: 'sunny', 1: 'sunny', 2: 'overcast', 3: 'rainy', 4: 'rainy', 5: 'rainy', 6: 'overcast', 7: 'sunny', 8: 'sunny', 9: 'rainy', 10: 'sunny', 11: 'overcast', 12: 'overcast', 13: 'rainy'}, ' temperature': {0: 'hot', 1: 'hot', 2: 'hot', 3: 'mild', 4: 'cool', 5: 'cool', 6: 'cool', 7: 'mild', 8: 'cool', 9: 'mild', 10: 'mild', 11: 'mild', 12: 'hot', 13: 'mild'}, ' humidity': {0: 'high', 1: 'high', 2: 'high', 3: 'high', 4: 'normal', 5: 'normal', 6: 'normal', 7: 'high', 8: 'normal', 9: 'normal', 10: 'normal', 11: 'high', 12: 'normal', 13: 'high'}, ' windy': {0: False, 1: True, 2: False, 3: False, 4: False, 5: True, 6: True, 7: False, 8: False, 9: False, 10: True, 11: True, 12: False, 13: True}, ' play': {0: 'no', 1: 'no', 2: 'yes', 3: 'yes', 4: 'yes', 5: 'no', 6: 'yes', 7: 'no', 8: 'yes', 9: 'yes', 10: 'yes', 11: 'yes', 12: 'yes', 13: 'no'}}\n"
     ]
    }
   ],
   "source": [
    "import pandas as pd\n",
    "df = pd.read_csv('C:\\\\Users\\\\Alex\\\\Documents\\\\GitHub\\\\Naive-Bayes-Classifier\\\\TestData\\\\weather.csv')\n",
    "print(df)\n",
    "print(type(df))\n",
    "print(type(df.to_dict()))\n",
    "print(df.to_dict())"
   ]
  },
  {
   "cell_type": "code",
   "execution_count": null,
   "metadata": {},
   "outputs": [],
   "source": []
  }
 ],
 "metadata": {
  "kernelspec": {
   "display_name": "Python 3",
   "language": "python",
   "name": "python3"
  },
  "language_info": {
   "codemirror_mode": {
    "name": "ipython",
    "version": 3
   },
   "file_extension": ".py",
   "mimetype": "text/x-python",
   "name": "python",
   "nbconvert_exporter": "python",
   "pygments_lexer": "ipython3",
   "version": "3.6.5"
  }
 },
 "nbformat": 4,
 "nbformat_minor": 4
}
